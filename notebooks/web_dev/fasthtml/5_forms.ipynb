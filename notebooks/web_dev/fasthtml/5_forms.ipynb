{
 "cells": [
  {
   "cell_type": "markdown",
   "metadata": {},
   "source": [
    "# Forms\n",
    "\n",
    "Forms are a way to collect user input and send it to the server to be processed. Let's start with an example of collecting user input *without* a form, and then we'll show what changes, and what benefits we get, when we use a form."
   ]
  },
  {
   "cell_type": "code",
   "execution_count": 8,
   "metadata": {},
   "outputs": [
    {
     "name": "stdout",
     "output_type": "stream",
     "text": [
      "Overwriting app_5.py\n"
     ]
    }
   ],
   "source": [
    "%%writefile app_5.py\n",
    "\n",
    "from fasthtml.common import *\n",
    "\n",
    "app, rt = fast_app()\n",
    "\n",
    "@rt(\"/\")\n",
    "def get():\n",
    "    return Titled(\"FastHTML\",\n",
    "        Div(\n",
    "            P(\"Please enter your name:\"),\n",
    "            Input(type=\"text\", name=\"name\", placeholder=\"Your name\"),\n",
    "            Button(\"Submit\", \n",
    "                   hx_post=\"/greet\", \n",
    "                   hx_target=\"#greeting\",\n",
    "                   hx_swap=\"innerHTML\",\n",
    "                   hx_include=\"[name='name']\"),\n",
    "            Div(id=\"greeting\")\n",
    "        )\n",
    "    )\n",
    "\n",
    "@rt(\"/greet\")\n",
    "def post(name: str):\n",
    "    return P(f\"Hello, {name}\")\n",
    "\n",
    "serve()"
   ]
  },
  {
   "cell_type": "markdown",
   "metadata": {},
   "source": []
  }
 ],
 "metadata": {
  "kernelspec": {
   "display_name": ".venv",
   "language": "python",
   "name": "python3"
  },
  "language_info": {
   "codemirror_mode": {
    "name": "ipython",
    "version": 3
   },
   "file_extension": ".py",
   "mimetype": "text/x-python",
   "name": "python",
   "nbconvert_exporter": "python",
   "pygments_lexer": "ipython3",
   "version": "3.12.4"
  }
 },
 "nbformat": 4,
 "nbformat_minor": 2
}
