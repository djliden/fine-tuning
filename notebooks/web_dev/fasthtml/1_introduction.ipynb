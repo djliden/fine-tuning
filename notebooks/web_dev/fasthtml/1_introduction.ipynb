{
 "cells": [
  {
   "cell_type": "markdown",
   "metadata": {},
   "source": [
    "# Introduction\n",
    "\n",
    "In this guide, we will develop an intuition for the basic principles and concepts of web development. We will do so using the FastHTML library, which enables us to create websites and web applications using Python. Crucially, it still requires considerable understanding of how web pages and web apps are built and how they work. It won't make it easy to build web pages without understanding HTML/CSS or HTTP requests. But it might mean that there is now a \"Pythonic\" way to learn it and to get started quickly.\n",
    "\n",
    "FastHTML is a bit different from other web development frameworks insofar as you can write Python functions to handle server logic without having to write a separate HTML template and Javascript for client-side interactivity. This is because FastHTML is designed to be a Pythonic way to generate HTML content, and it uses htmx for client-side interactivity. This approach is somewhat controversial, as exemplified by this Hacker News exchange with the creator of FastHTML:\n",
    "\n",
    "![Hacker News exchange with FastHTML creator](./images/jh_soc_hn.png)\n",
    "\n",
    "The key thing to remember here is that we return HTML content directly from our Python functions rather than populating a template and then rendering it.\n",
    "\n",
    "The goal of this guide is to start as simply as possible and to add more and more complexity to that simple start, explaining what is happening at each step and mapping the FastHTML code to a broader understanding of web development concepts.\n",
    "\n",
    "## A Simple Start\n",
    "As always...let's start with a Hello, World. In this case, we will develop a web page that says \"Hello, World\" that you can serve and see in your browser."
   ]
  },
  {
   "cell_type": "code",
   "execution_count": 9,
   "metadata": {},
   "outputs": [],
   "source": [
    "from fasthtml.common import *\n",
    "\n",
    "app, rt = fast_app()\n",
    "\n",
    "@rt(\"/\")\n",
    "def get():\n",
    "    return Titled(\"FastHTML\", P(\"Hello, World!\"))\n",
    "\n",
    "serve()"
   ]
  },
  {
   "cell_type": "markdown",
   "metadata": {},
   "source": [
    "To see the results, save this as a `.py` file and run it with `python <filename>.py`. You can save a cell as a file with the `%%writefile <filename>.py` magic command. There are a few things happening here that are immediately worth pointing out:\n",
    "1. The `@rt(\"/\")` decorator tells us the *route* with which the decorated function will be associated. `/` is just the index page or main page.\n",
    "2. `get()` isn't just an arbitrary function name—it is an HTTP verb or [HTTP request method](hhttps://developer.mozilla.org/en-US/docs/Web/HTTP/Methods). HTTP methods specify the type of action to be performed; `get` means that we want to retrieve some data. Note that FastHTML gives a few different ways of specifying routes and methods. We could have decorated a differently-named function with `@app.get(\"/\")`. The following cell does the same thing; replace `app.py` with its contents and run it again to see."
   ]
  },
  {
   "cell_type": "code",
   "execution_count": 18,
   "metadata": {},
   "outputs": [],
   "source": [
    "#%%writefile app_1.py\n",
    "from fasthtml.common import *\n",
    "\n",
    "app, rt = fast_app()\n",
    "\n",
    "@app.get(\"/\")\n",
    "def hello():\n",
    "    return Titled(\"Hello, World!\")\n",
    "\n",
    "serve()"
   ]
  },
  {
   "cell_type": "markdown",
   "metadata": {},
   "source": [
    "To recap what happens: when a user goes to the home page (`/`), a `get()` http request is triggered, which, in this case, calls the `hello()` function, which generates the resulting \"Hello, World\" page.\n",
    "\n",
    "But what does \"generates the resulting \"Hello, World\" page actually mean? What FastHTML does is generate the HTML structure for the page. This HTML is then sent back to the user's browser, which renders it as a web page displaying \"Hello, World\". We can actually see this raw HTML using the Starlette `TestClient`. (Starlette is an \"Asynchronous Server Gateway Interface\" or ASGI framework and one of the core components of FastHTML. Don't worry about it for now.)\n",
    "\n",
    "Here's how you can see the generated HTML (e.g. in a Jupyter notebook)."
   ]
  },
  {
   "cell_type": "code",
   "execution_count": 19,
   "metadata": {},
   "outputs": [
    {
     "name": "stdout",
     "output_type": "stream",
     "text": [
      "<!doctype html>\n",
      "\n",
      "<html>\n",
      "  <head>\n",
      "    <title>Hello, World!</title>\n",
      "    <meta charset=\"utf-8\">\n",
      "    <meta name=\"viewport\" content=\"width=device-width, initial-scale=1, viewport-fit=cover\">\n",
      "    <script src=\"https://unpkg.com/htmx.org@next/dist/htmx.min.js\"></script>\n",
      "    <script src=\"https://cdn.jsdelivr.net/gh/answerdotai/fasthtml-js@main/fasthtml.js\"></script>\n",
      "    <script src=\"https://cdn.jsdelivr.net/gh/answerdotai/surreal@main/surreal.js\"></script>\n",
      "    <script src=\"https://cdn.jsdelivr.net/gh/gnat/css-scope-inline@main/script.js\"></script>\n",
      "    <link rel=\"stylesheet\" href=\"https://cdn.jsdelivr.net/npm/@picocss/pico@latest/css/pico.min.css\">\n",
      "    <style>:root { --pico-font-size: 100%; }</style>\n",
      "  </head>\n",
      "  <body><main class=\"container\"><h1>Hello, World!</h1>\n",
      "</main>\n",
      "</body>\n",
      "</html>\n",
      "\n"
     ]
    }
   ],
   "source": [
    "from starlette.testclient import TestClient\n",
    "client = TestClient(app)\n",
    "r = client.get(\"/\")\n",
    "print(r.text)"
   ]
  },
  {
   "cell_type": "markdown",
   "metadata": {},
   "source": [
    "You'll notice a few things:\n",
    "- We ended up with the `title` Hello, World (`<title>Hello, World</title>`)\n",
    "- In the page body, `Hello, World` is wrapped in `h1` tags.\n",
    "\n",
    "## Modifying our First Webpage\n",
    "`Titled` is an FT (FastTags) component that combines a Title and H1 HTML tag. What happens if we use something simpler, like [`<p>`](https://developer.mozilla.org/en-US/docs/Web/HTML/Element/p)? \n"
   ]
  },
  {
   "cell_type": "code",
   "execution_count": 22,
   "metadata": {},
   "outputs": [],
   "source": [
    "#%%writefile app_1.py\n",
    "from fasthtml.common import *\n",
    "\n",
    "app, rt = fast_app()\n",
    "\n",
    "@app.get(\"/\")\n",
    "def hello():\n",
    "    return P(\"Hello, World!\")\n",
    "\n",
    "serve()"
   ]
  },
  {
   "cell_type": "code",
   "execution_count": 24,
   "metadata": {},
   "outputs": [
    {
     "name": "stdout",
     "output_type": "stream",
     "text": [
      "<!doctype html>\n",
      "\n",
      "<html>\n",
      "  <head>\n",
      "    <title>FastHTML page</title>\n",
      "    <meta charset=\"utf-8\">\n",
      "    <meta name=\"viewport\" content=\"width=device-width, initial-scale=1, viewport-fit=cover\">\n",
      "    <script src=\"https://unpkg.com/htmx.org@next/dist/htmx.min.js\"></script>\n",
      "    <script src=\"https://cdn.jsdelivr.net/gh/answerdotai/fasthtml-js@main/fasthtml.js\"></script>\n",
      "    <script src=\"https://cdn.jsdelivr.net/gh/answerdotai/surreal@main/surreal.js\"></script>\n",
      "    <script src=\"https://cdn.jsdelivr.net/gh/gnat/css-scope-inline@main/script.js\"></script>\n",
      "    <link rel=\"stylesheet\" href=\"https://cdn.jsdelivr.net/npm/@picocss/pico@latest/css/pico.min.css\">\n",
      "    <style>:root { --pico-font-size: 100%; }</style>\n",
      "  </head>\n",
      "  <body><p>Hello, World!</p>\n",
      "</body>\n",
      "</html>\n",
      "\n"
     ]
    }
   ],
   "source": [
    "client = TestClient(app)\n",
    "r = client.get(\"/\")\n",
    "print(r.text)"
   ]
  },
  {
   "cell_type": "markdown",
   "metadata": {},
   "source": [
    "When we make this change, the `title` reverts to the default `FastHTML page` and the Hello, World text is no longer formatted as a header. But let's add the title and formatting back in, *without* using `Titled`:"
   ]
  },
  {
   "cell_type": "code",
   "execution_count": 33,
   "metadata": {},
   "outputs": [],
   "source": [
    "# %%writefile app_1.py\n",
    "from fasthtml.common import *\n",
    "\n",
    "app, rt = fast_app()\n",
    "\n",
    "\n",
    "@app.get(\"/\")\n",
    "def hello():\n",
    "    return (Title(\"Hello, World!\"), Main(H1(\"Hello, World!\"), cls=\"container\"))\n",
    "\n",
    "\n",
    "serve()"
   ]
  },
  {
   "cell_type": "code",
   "execution_count": 34,
   "metadata": {},
   "outputs": [
    {
     "name": "stdout",
     "output_type": "stream",
     "text": [
      "<!doctype html>\n",
      "\n",
      "<html>\n",
      "  <head>\n",
      "    <title>Hello, World!</title>\n",
      "    <meta charset=\"utf-8\">\n",
      "    <meta name=\"viewport\" content=\"width=device-width, initial-scale=1, viewport-fit=cover\">\n",
      "    <script src=\"https://unpkg.com/htmx.org@next/dist/htmx.min.js\"></script>\n",
      "    <script src=\"https://cdn.jsdelivr.net/gh/answerdotai/fasthtml-js@main/fasthtml.js\"></script>\n",
      "    <script src=\"https://cdn.jsdelivr.net/gh/answerdotai/surreal@main/surreal.js\"></script>\n",
      "    <script src=\"https://cdn.jsdelivr.net/gh/gnat/css-scope-inline@main/script.js\"></script>\n",
      "    <link rel=\"stylesheet\" href=\"https://cdn.jsdelivr.net/npm/@picocss/pico@latest/css/pico.min.css\">\n",
      "    <style>:root { --pico-font-size: 100%; }</style>\n",
      "  </head>\n",
      "  <body><main class=\"container\"><h1>Hello, World!</h1>\n",
      "</main>\n",
      "</body>\n",
      "</html>\n",
      "\n"
     ]
    }
   ],
   "source": [
    "client = TestClient(app)\n",
    "r = client.get(\"/\")\n",
    "print(r.text)"
   ]
  },
  {
   "cell_type": "markdown",
   "metadata": {},
   "source": [
    "Our `hello` function can return multiple components, some of which might be nested. In this case, we returned a `Title` and the \"Hello, World\" text nested in `main` and `h1` tags. Furthermore, we specified the `container` class for our `main` element. By default, FastHTML uses PicoCSS for styling; the default [PicoCSS container](https://picocss.com/docs/container) format is centered and fixed width. If you omit the `container` specification, you'll see the \"Hello, World\" text pushed to the left margin.\n",
    "\n",
    "Let's add one more element: some simple text under the Hello, World header."
   ]
  },
  {
   "cell_type": "code",
   "execution_count": 43,
   "metadata": {},
   "outputs": [],
   "source": [
    "#%%writefile app_1.py\n",
    "from fasthtml.common import *\n",
    "\n",
    "app, rt = fast_app()\n",
    "\n",
    "\n",
    "@app.get(\"/\")\n",
    "def hello():\n",
    "    return (Title(\"Hello, World!\"), Main(H1(\"Hello, World!\"), cls=\"container\"),\n",
    "            Div(P(\"Goodbye, World!\"), cls=\"container\"))\n",
    "\n",
    "\n",
    "serve()"
   ]
  },
  {
   "cell_type": "code",
   "execution_count": 44,
   "metadata": {},
   "outputs": [
    {
     "name": "stdout",
     "output_type": "stream",
     "text": [
      "<!doctype html>\n",
      "\n",
      "<html>\n",
      "  <head>\n",
      "    <title>Hello, World!</title>\n",
      "    <meta charset=\"utf-8\">\n",
      "    <meta name=\"viewport\" content=\"width=device-width, initial-scale=1, viewport-fit=cover\">\n",
      "    <script src=\"https://unpkg.com/htmx.org@next/dist/htmx.min.js\"></script>\n",
      "    <script src=\"https://cdn.jsdelivr.net/gh/answerdotai/fasthtml-js@main/fasthtml.js\"></script>\n",
      "    <script src=\"https://cdn.jsdelivr.net/gh/answerdotai/surreal@main/surreal.js\"></script>\n",
      "    <script src=\"https://cdn.jsdelivr.net/gh/gnat/css-scope-inline@main/script.js\"></script>\n",
      "    <link rel=\"stylesheet\" href=\"https://cdn.jsdelivr.net/npm/@picocss/pico@latest/css/pico.min.css\">\n",
      "    <style>:root { --pico-font-size: 100%; }</style>\n",
      "  </head>\n",
      "  <body>\n",
      "    <main class=\"container\"><h1>Hello, World!</h1>\n",
      "</main>\n",
      "    <div class=\"container\"><p>Goodbye, World!</p>\n",
      "</div>\n",
      "  </body>\n",
      "</html>\n",
      "\n"
     ]
    }
   ],
   "source": [
    "client = TestClient(app)\n",
    "r = client.get(\"/\")\n",
    "print(r.text)"
   ]
  },
  {
   "cell_type": "markdown",
   "metadata": {},
   "source": [
    "## Adding Another Page\n",
    "\n",
    "Right now, our web page is just one page. Let's add another page, and links for navigating back and forth between them.\n",
    "\n",
    "***Note**: At this point, I'm going to stop showing the html after each change. But do check it yourself, either with the Starlette TestClient or by viewing the source in your browser!*"
   ]
  },
  {
   "cell_type": "code",
   "execution_count": 2,
   "metadata": {},
   "outputs": [
    {
     "name": "stdout",
     "output_type": "stream",
     "text": [
      "Overwriting app_0.py\n"
     ]
    }
   ],
   "source": [
    "%%writefile app_1.py\n",
    "from fasthtml.common import *\n",
    "\n",
    "app, rt = fast_app()\n",
    "\n",
    "\n",
    "@app.get(\"/\")\n",
    "def hello():\n",
    "    return (Title(\"Hello, World!\"), Main(H1(\"Hello, World!\"), cls=\"container\"),\n",
    "            Div(P(\"Goodbye, World!\"), cls=\"container\"))\n",
    "\n",
    "@rt(\"/about\")\n",
    "def get():\n",
    "    return(Titled(\"About this Site\",\n",
    "                  P(\"This is an example site built with FastHTML!\"),\n",
    "                  A(\"Return Home\", href=\"/\")))\n",
    "\n",
    "\n",
    "serve()"
   ]
  },
  {
   "cell_type": "markdown",
   "metadata": {},
   "source": [
    "This is missing something—but let's take a look before we finish it anyway. Save and run the script again. It will take you to the home page, but there's no way to get to the new \"about\" page. But you can still get there manually: just add \"about\" to the end of the url (e.g. `http://0.0.0.0:5001/about`). By navigating to that URL, you are manually invoking the `get` request we defined on that route.\n",
    "\n",
    "Of course, we'd rather have a link on the home page. Let's add it. Just like in the \"about\" route, we use the `A` FT component."
   ]
  },
  {
   "cell_type": "code",
   "execution_count": 6,
   "metadata": {},
   "outputs": [
    {
     "name": "stdout",
     "output_type": "stream",
     "text": [
      "Overwriting app_0.py\n"
     ]
    }
   ],
   "source": [
    "%%writefile app_1.py\n",
    "from fasthtml.common import *\n",
    "\n",
    "app, rt = fast_app()\n",
    "\n",
    "\n",
    "@app.get(\"/\")\n",
    "def hello():\n",
    "    return (Title(\"Hello, World!\"), Main(H1(\"Hello, World!\"), cls=\"container\"),\n",
    "            Div(P(\"Goodbye, World!\"), A(\"About\", href=\"/about\"), cls=\"container\"))\n",
    "\n",
    "@rt(\"/about\")\n",
    "def get():\n",
    "    return(Titled(\"About this Site\",\n",
    "                  P(\"This is an example site built with FastHTML!\"),\n",
    "                  A(\"Return Home\", href=\"/\")))\n",
    "\n",
    "\n",
    "serve()"
   ]
  },
  {
   "cell_type": "markdown",
   "metadata": {},
   "source": [
    "One last thing in this part of the tutorial—you might want to inspect the html of *specific components* as you're developing the site. You don't need the TestClient or your browser's developer tools to do this. If you're working in a Jupyter notebook, simply running the cell with a component will print out the HTML. And calling `show()` on that component will actually display the rendered HTML."
   ]
  },
  {
   "cell_type": "code",
   "execution_count": 12,
   "metadata": {},
   "outputs": [
    {
     "data": {
      "text/markdown": [
       "```html\n",
       "<a href=\"/\">Return Home</a>\n",
       "\n",
       "```"
      ],
      "text/plain": [
       "a(('Return Home',),{'href': '/'})"
      ]
     },
     "execution_count": 12,
     "metadata": {},
     "output_type": "execute_result"
    }
   ],
   "source": [
    "A(\"Return Home\", href=\"/\")"
   ]
  },
  {
   "cell_type": "code",
   "execution_count": 13,
   "metadata": {},
   "outputs": [
    {
     "data": {
      "text/html": [
       "<a href=\"/\">Return Home</a>\n"
      ],
      "text/plain": [
       "<IPython.core.display.HTML object>"
      ]
     },
     "execution_count": 13,
     "metadata": {},
     "output_type": "execute_result"
    }
   ],
   "source": [
    "show(A(\"Return Home\", href=\"/\"))"
   ]
  },
  {
   "cell_type": "markdown",
   "metadata": {},
   "source": [
    "## Review\n",
    "This concludes the first part of our FastHTML tutorial. At this point, you should have a very basic understanding of:\n",
    "1. How to locally serve a simple FastHTML website\n",
    "2. How to use the Starlette TestCLient to view the HTML generated by http `get` requests on specific routes\n",
    "3. How FT components map Python to HTML\n",
    "4. How to add multiple pages and links between them to a site\n",
    "5. How to preview components in a Jupyter notebook\n",
    "\n",
    "There's already a lot you can do at this point. I recommend stopping here and taking some time to experiment. Add more pages, try out different layouts. Pick a few HTML elements from [this list](https://developer.mozilla.org/en-US/docs/Web/HTML/Element) and figure out how the FT version works (hint: FT components start with capital letters). You might, for example, try adding a `Blockquote` or an `Hr` component.\n",
    "\n",
    "In the next section, we will focus on customizing our website. After that, we will start exploring how to add more interesting and sophisticated capabilities using Python code and http methods other than `get`."
   ]
  },
  {
   "cell_type": "markdown",
   "metadata": {},
   "source": []
  }
 ],
 "metadata": {
  "kernelspec": {
   "display_name": ".venv",
   "language": "python",
   "name": "python3"
  },
  "language_info": {
   "codemirror_mode": {
    "name": "ipython",
    "version": 3
   },
   "file_extension": ".py",
   "mimetype": "text/x-python",
   "name": "python",
   "nbconvert_exporter": "python",
   "pygments_lexer": "ipython3",
   "version": "3.12.4"
  }
 },
 "nbformat": 4,
 "nbformat_minor": 2
}
