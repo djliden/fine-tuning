{
 "cells": [
  {
   "cell_type": "markdown",
   "metadata": {},
   "source": [
    "# HTMX: Server-Driven Interactivity\n",
    "\n",
    "One of the core technologies FastHTML builds on is [htmx](https://htmx.org/). HTMX extends the capabilities of HTML to allow for server-driven interactivity. This is in contrast to client-side interactivity, which is handled by Javascript.\n",
    "\n",
    "HTMX gives two main capabilities that we do not get from HTML alone:\n",
    "1. The ability to trigger any kind of HTTP request from any element on a page\n",
    "2. The ability to update any element on a page with the response from any request, without having to reload the page\n",
    "\n",
    "Traditionally, these capabilities have required web developers to write Javascript to handle page updates. HTMX, especially in the context of FastHTML, allows us to use Python to handle page updates.\n",
    "\n",
    "## Add a form to our hello, world app"
   ]
  },
  {
   "cell_type": "code",
   "execution_count": 4,
   "metadata": {},
   "outputs": [
    {
     "name": "stdout",
     "output_type": "stream",
     "text": [
      "Overwriting app_3.py\n"
     ]
    }
   ],
   "source": [
    "%%writefile app_3.py\n",
    "\n",
    "from fasthtml.common import *\n",
    "\n",
    "app, rt = fast_app()\n",
    "\n",
    "def create_greeting_form():\n",
    "    return Form(\n",
    "        Input(type=\"text\", name=\"name\", placeholder=\"Enter your name\"),\n",
    "        Button(\"Submit\", type=\"submit\"),\n",
    "        hx_post=\"/greet\",\n",
    "        hx_target=\"#greeting\",\n",
    "        hx_swap=\"innerHTML\"\n",
    "    )\n",
    "\n",
    "@rt(\"/\")\n",
    "def get():\n",
    "    return Titled(\"FastHTML\",\n",
    "        Div(\n",
    "            P(\"Hello, World!\"),\n",
    "            create_greeting_form(),\n",
    "            Div(id=\"greeting-message\"),\n",
    "            id=\"greeting\"\n",
    "        )\n",
    "    )\n",
    "\n",
    "@rt(\"/greet\", methods=[\"POST\"])\n",
    "def greet(name: str):\n",
    "    return Div(\n",
    "        P(f\"Hello, {name}!\"),\n",
    "        create_greeting_form(),\n",
    "        Div(id=\"greeting-message\"),\n",
    "        id=\"greeting\"\n",
    "    )\n",
    "\n",
    "serve()"
   ]
  },
  {
   "cell_type": "markdown",
   "metadata": {},
   "source": [
    "We have updated our simple \"hello, world\" app to include a form that allows the user to enter their name and submit it to the server. The server then replaces \"Hello, World!\" with a Hello to whatever name was submitted. And it does this *without* reloading the entire page.\n",
    "\n",
    "There are a few new things here:\n",
    "1. This is our first use of an example that takes user input, via the [`Form`](https://docs.fastht.ml/api/xtend.html#form) component. If you look at the documentation, you will see that `Form` can take a number of different `hx_*` attributes. These are various HTMX attributes that control the behavior of the form submission.\n",
    "2. On that note—we used several `hx_*` attributes in our form. In particular:\n",
    "  - `hx_post` tells HTMX to send an asynchronous POST request when the form is submitted, allowing for partial page updates without a full page reload.\n",
    "  - `hx_target` tells HTMX to update the element with the id `greeting` with the response from the server.\n",
    "  - `hx_swap` tells HTMX to replace the contents of the element with the id `greeting` with the response from the server. Specifically, `innerHTML` means that the response from the server will be inserted into the element, replacing whatever was there before.\n",
    "3. This is the first time we have used a `POST` request. In this case, the request is sent to the server with the form data. The server then returns a response, which is used to update the page. `GET` requests, which we have seen in previous examples, are typically used to retrieve data from the server. `POST` requests are typically used to send data to the server and get back a response."
   ]
  },
  {
   "cell_type": "markdown",
   "metadata": {},
   "source": [
    "## Add HTMX to arbitrary elements\n",
    "\n",
    "One of the benefits of HTMX is that it allows us to add interactivity to arbitrary elements on a page. This is in contrast to HTML alone, which is limited to interactivity that is triggered by form submissions and link clicks and must reload the entire page to update the content of the page.\n",
    "\n",
    "Let's demonstrate this by changging the color of \"Hello, World\" to red whenever the user mouses over it."
   ]
  },
  {
   "cell_type": "code",
   "execution_count": 15,
   "metadata": {},
   "outputs": [
    {
     "name": "stdout",
     "output_type": "stream",
     "text": [
      "Overwriting app_3.py\n"
     ]
    }
   ],
   "source": [
    "%%writefile app_3.py\n",
    "\n",
    "from fasthtml.common import *\n",
    "\n",
    "app, rt = fast_app()\n",
    "\n",
    "@rt(\"/\")\n",
    "def get():\n",
    "    return Titled(\"FastHTML\", \n",
    "        P(\"Hello, World!\", \n",
    "          hx_get=\"/change-color\", \n",
    "          hx_trigger=\"mouseenter\",\n",
    "          hx_swap=\"outerHTML\"\n",
    "        )\n",
    "    )\n",
    "\n",
    "@rt(\"/change-color\")\n",
    "def get():\n",
    "    return P(\"Hello, World!\", \n",
    "             style=\"color: red;\",\n",
    "             hx_get=\"/revert-color\",\n",
    "             hx_trigger=\"mouseleave\",\n",
    "             hx_swap=\"outerHTML\"\n",
    "            )\n",
    "\n",
    "@rt(\"/revert-color\")\n",
    "def get():\n",
    "    return P(\"Hello, World!\", \n",
    "             hx_get=\"/change-color\", \n",
    "             hx_trigger=\"mouseenter\",\n",
    "             hx_swap=\"outerHTML\"\n",
    "            )\n",
    "\n",
    "serve()"
   ]
  },
  {
   "cell_type": "markdown",
   "metadata": {},
   "source": [
    "What is happening here?\n",
    "1. When the user mouses over \"Hello, World!\", the server sends a request to `/change-color`.\n",
    "2. The server returns a response with the updated content, which includes the `hx_get` attribute. This tells HTMX to send a request to `/revert-color` when the user mouses out of the element.\n",
    "3. The server returns a response with the updated content, which includes the `hx_get` attribute. This tells HTMX to send a request to `/change-color` when the user mouses over the element again.\n",
    "4. This cycle repeats indefinitely, causing the color of the element to change whenever the user mouses over it and revert to the original color whenever the user mouses out of it.\n",
    "\n",
    "You'll notice that much of the behavior of HTMX attributes is determined by the `hx_trigger` and `hx_swap` attributes. Knowing where to look for the available options is important! [Here](https://html.spec.whatwg.org/multipage/indices.html#events-2) is one source of events that can be used as triggers, and [here](https://htmx.org/docs/#swapping) are the available options for swapping.\n",
    "\n",
    "## Summary\n",
    "\n",
    "This has been a *brief* introduction to HTMX in FastHTML. We have only scratched the surface of what is possible with HTMX. For more information, please see the [HTMX documentation](https://htmx.org/docs/)."
   ]
  }
 ],
 "metadata": {
  "kernelspec": {
   "display_name": ".venv",
   "language": "python",
   "name": "python3"
  },
  "language_info": {
   "codemirror_mode": {
    "name": "ipython",
    "version": 3
   },
   "file_extension": ".py",
   "mimetype": "text/x-python",
   "name": "python",
   "nbconvert_exporter": "python",
   "pygments_lexer": "ipython3",
   "version": "3.12.4"
  }
 },
 "nbformat": 4,
 "nbformat_minor": 2
}
