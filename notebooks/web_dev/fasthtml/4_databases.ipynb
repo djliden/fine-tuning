{
 "cells": [
  {
   "cell_type": "markdown",
   "metadata": {},
   "source": [
    "# Using a Database\n",
    "\n",
    "App development often involves the use of a database. FastHTML supports whatever database you want to use, but is currently configured to use SQLite by default. This tutorial will briefly cover how to use a SQLite database with FastHTML.\n",
    "\n",
    "Note that, at the time of writing, database support and opinionated workflows are largely undocumented, so the material here is drawn from a variety of examples and personal experience.\n",
    "\n",
    "## What do we use a database for?\n",
    "Databases in web applications can serve a variety of purposes. They can be used to store user data, application data, or any other data that needs to be persisted between requests."
   ]
  },
  {
   "cell_type": "markdown",
   "metadata": {},
   "source": [
    "You can create a database by passing a `db_file` argument to the `fast_app` function: if you do so, `fast_app` will return database tables and dataclasses. Thus functionality is marked as \"experimental\" so we will stick to setting up databases separately for now. See [this example](https://github.com/AnswerDotAI/fasthtml/blob/main/examples/first_app.py#L4) for more details.\n",
    "\n",
    "By default, FastHTML uses SQLite and examples use the [`fastlite`](https://answerdotai.github.io/fastlite/) library to create and manage the database. FastLite supports the [MiniDataAPI spec](https://github.com/AnswerDotAI/fasthtml/blob/736f014589aa0549bd371e1f833e74754cdf4779/nbs/explains/minidataapi.ipynb).\n",
    "\n",
    "FastLite only supports SQLite. [FastSQL](https://github.com/AnswerDotAI/fastsql), also by answer.ai, supports a wider range of databases. You can also just use e.g. SQLAlchemy or any other database library; there does not appear to be an inherent requirement to use FastLite.\n",
    "\n",
    "## FastLite Syntax\n",
    "Let's briefly go over the FastLite syntax. For more, again, see the [MiniDataAPI spec](https://github.com/AnswerDotAI/fasthtml/blob/736f014589aa0549bd371e1f833e74754cdf4779/nbs/explains/minidataapi.ipynb) and the [FastLite documentation](https://answerdotai.github.io/fastlite/).\n",
    "\n",
    "### Create a database and table"
   ]
  },
  {
   "cell_type": "markdown",
   "metadata": {},
   "source": [
    "In the next cell, we will:\n",
    "1. Create a SQLite database\n",
    "2. Create a table called \"users\"\n",
    "3. Create a dataclass for type hinting\n",
    "\n",
    "See the comments for more details."
   ]
  },
  {
   "cell_type": "code",
   "execution_count": 3,
   "metadata": {},
   "outputs": [],
   "source": [
    "from fasthtml.common import *\n",
    "\n",
    "# creates the SQLite database in the data/example.db file\n",
    "db = database('data/example.db')\n",
    "\n",
    "# make a table called \"users\"\n",
    "users = db.t.users\n",
    "\n",
    "# create the table if it doesn't exist\n",
    "if users not in db.t:\n",
    "    # create the table with the following columns:\n",
    "    # - id: int\n",
    "    # - name: str\n",
    "    # - email: str\n",
    "    # - pk: 'id' (primary key)\n",
    "    users.create(id=int, name=str, email=str, pk='id')\n",
    "\n",
    "# create a dataclass for type hinting\n",
    "User = users.dataclass()"
   ]
  },
  {
   "cell_type": "markdown",
   "metadata": {},
   "source": [
    "### Add data to the table\n",
    "\n",
    "Next, we will create a few example users and add them to the database\n"
   ]
  },
  {
   "cell_type": "code",
   "execution_count": 16,
   "metadata": {},
   "outputs": [
    {
     "data": {
      "text/plain": [
       "Users(id=3, name='Dan L', email='dan@doe.com')"
      ]
     },
     "execution_count": 16,
     "metadata": {},
     "output_type": "execute_result"
    }
   ],
   "source": [
    "users.insert(User(name=\"John Doe\", email=\"john@doe.com\"))\n",
    "users.insert(User(name=\"Jane Doe\", email=\"jane@doe.com\"))\n",
    "users.insert(User(name=\"Dan L\", email=\"dan@doe.com\"))"
   ]
  },
  {
   "cell_type": "markdown",
   "metadata": {},
   "source": [
    "### Retrieve data from the table\n",
    "\n",
    "We can see the contents of the table by calling the table object:"
   ]
  },
  {
   "cell_type": "code",
   "execution_count": 17,
   "metadata": {},
   "outputs": [
    {
     "data": {
      "text/plain": [
       "[Users(id=1, name='John Doe', email='john@doe.com'),\n",
       " Users(id=2, name='Jane Doe', email='jane@doe.com'),\n",
       " Users(id=3, name='Dan L', email='dan@doe.com')]"
      ]
     },
     "execution_count": 17,
     "metadata": {},
     "output_type": "execute_result"
    }
   ],
   "source": [
    "users()"
   ]
  },
  {
   "cell_type": "markdown",
   "metadata": {},
   "source": [
    "And we can retrieve a specific entry using the primary key in brackets:"
   ]
  },
  {
   "cell_type": "code",
   "execution_count": null,
   "metadata": {},
   "outputs": [
    {
     "data": {
      "text/plain": [
       "Users(id=2, name='Jane Doe', email='jane@doe.com')"
      ]
     },
     "execution_count": 19,
     "metadata": {},
     "output_type": "execute_result"
    }
   ],
   "source": [
    "users[2]"
   ]
  },
  {
   "cell_type": "markdown",
   "metadata": {},
   "source": [
    "### Deleting and Updating Data"
   ]
  },
  {
   "cell_type": "code",
   "execution_count": 24,
   "metadata": {},
   "outputs": [
    {
     "data": {
      "text/plain": [
       "[Users(id=1, name='John Doe', email='john@doe.com'),\n",
       " Users(id=3, name='David L.', email='dan@doe.com')]"
      ]
     },
     "execution_count": 24,
     "metadata": {},
     "output_type": "execute_result"
    }
   ],
   "source": [
    "# Delete a user\n",
    "users.delete(2)\n",
    "\n",
    "# Update a user\n",
    "users.update({'id': 3, 'name': 'David L.'})\n",
    "\n",
    "# View the updated table\n",
    "users()"
   ]
  },
  {
   "cell_type": "markdown",
   "metadata": {},
   "source": [
    "This covers the basics of using a database with FastHTML. See the [FastLite documentation](https://answerdotai.github.io/fastlite/) for more details. You should familiarize yourself with at least the following methods:\n",
    "- create\n",
    "- transform\n",
    "- transform_sql\n",
    "- update\n",
    "- insert\n",
    "- upsert\n",
    "- lookup"
   ]
  },
  {
   "cell_type": "markdown",
   "metadata": {},
   "source": [
    "### Run arbitrary SQL queries\n",
    "\n",
    "You can run arbitrary SQL queries and get back the results using the `db.q` method:"
   ]
  },
  {
   "cell_type": "code",
   "execution_count": 23,
   "metadata": {},
   "outputs": [
    {
     "data": {
      "text/plain": [
       "[{'id': 1, 'name': 'John Doe', 'email': 'john@doe.com'},\n",
       " {'id': 2, 'name': 'Jane Doe', 'email': 'jane@doe.com'},\n",
       " {'id': 3, 'name': 'Dan L', 'email': 'dan@doe.com'}]"
      ]
     },
     "execution_count": 23,
     "metadata": {},
     "output_type": "execute_result"
    }
   ],
   "source": [
    "db.q(\"SELECT * FROM users;\")"
   ]
  },
  {
   "cell_type": "markdown",
   "metadata": {},
   "source": [
    "## Rendering Tables with Custom Components\n",
    "\n",
    "https://docs.fastht.ml/tutorials/e2e.html#drawing-rooms\n",
    "\n",
    "It can be useful to specify how we want tables/their corresponding dataclasses to be rendered. We can do this by patching the dataclass to add an `__ft__` method.\n",
    "\n",
    "This is one of the clearest benefits of using a FastLite/MiniDataAPI-based approach to database management. It may not be as straightforward to control the rendering of data in a more custom database management system."
   ]
  },
  {
   "cell_type": "code",
   "execution_count": 25,
   "metadata": {},
   "outputs": [],
   "source": [
    "@patch\n",
    "def __ft__(self:User):\n",
    "    return Div(f\"Name: {self.name}, Email: {self.email}\")"
   ]
  },
  {
   "cell_type": "markdown",
   "metadata": {},
   "source": [
    "Now, when we refer to a user in the context of a FastHTML component, it will be rendered using our custom component:"
   ]
  },
  {
   "cell_type": "code",
   "execution_count": 36,
   "metadata": {},
   "outputs": [
    {
     "data": {
      "text/markdown": [
       "```html\n",
       "<html>\n",
       "  <div>Name: John Doe, Email: john@doe.com</div>\n",
       "</html>\n",
       "\n",
       "```"
      ],
      "text/plain": [
       "html((Users(id=1, name='John Doe', email='john@doe.com'),),{})"
      ]
     },
     "execution_count": 36,
     "metadata": {},
     "output_type": "execute_result"
    }
   ],
   "source": [
    "Html(users[1])"
   ]
  },
  {
   "cell_type": "markdown",
   "metadata": {},
   "source": [
    "We could also define a render function and pass it to `fast_app` as shown [here](https://docs.fastht.ml/tutorials/e2e.html#drawing-rooms). The approach in that example would allow us to initialize a database with a \"default\" table, dataclass, and render function. For now, I prefer the separate approach as it enables greater clarity and flexibility."
   ]
  },
  {
   "cell_type": "markdown",
   "metadata": {},
   "source": [
    "## Summary\n",
    "\n",
    "This quick introduction to using databases with FastHTML has equipped you with the basics of using SQLlite databases via FastLite in your FastHTML app."
   ]
  }
 ],
 "metadata": {
  "kernelspec": {
   "display_name": ".venv",
   "language": "python",
   "name": "python3"
  },
  "language_info": {
   "codemirror_mode": {
    "name": "ipython",
    "version": 3
   },
   "file_extension": ".py",
   "mimetype": "text/x-python",
   "name": "python",
   "nbconvert_exporter": "python",
   "pygments_lexer": "ipython3",
   "version": "3.12.4"
  }
 },
 "nbformat": 4,
 "nbformat_minor": 2
}
