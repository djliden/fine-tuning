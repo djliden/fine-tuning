{
 "cells": [
  {
   "cell_type": "markdown",
   "metadata": {},
   "source": [
    "# Changing the Appearance of FastHTML Applications and Components\n",
    "\n",
    "How do you change the appearance of your FastHTML application? There are a few different ways. Be aware: they require you to know at least some CSS. We'll cover the following:\n",
    "1. PicoCSS: the default CSS framework used by FastHTML\n",
    "2. Using a different CSS framework\n",
    "3. Applying inline styles\n",
    "4. Using your own custom CSS stylesheet\n",
    "\n",
    "Understanding there approaches—and where to find more details on CSS—will give you a great deal of control ovet the appearance of your site.\n",
    "\n",
    "## CSS Basics\n",
    "Let's start by answering a few basic questions about CSS and how it affects a webpage. We're not going to provide any examples of CSS outside the context of FastHTML; for a more comprehensive overview, see the [CSS Basics MDN Docs](https://developer.mozilla.org/en-US/docs/Learn/Getting_started_with_the_web/CSS_basics)\n",
    "1. What is CSS? *CSS (Cascading Style Sheets) is a style sheet language that lets you selectively apply style options to HTML elements. With CSS, you specify the types of HTML components you want to be affected, and how you want them displayed on the page.*\n",
    "2. What is a CSS framework? *A [CSS framework](https://en.wikipedia.org/wiki/CSS_framework) like PicoCSS is an opinionated library of styles/templates that provides pre-defined classes and components to help you quickly build and style web pages.*\n",
    "3. How is CSS applied? *CSS can be applied in three ways: inline styles (directly in the HTML element), internal styles (within a `<style>` tag in the HTML document), and external styles (linking to an external CSS file).*\n",
    "\n",
    "## PicoCSS\n",
    "PicoCSS is the default CSS framework used by FastHTML. It's the reason the pages we put together in [part 1](./tutorial_1.ipynb) looked like they did and were not just black text on white backgrounds. Let's see what happens when we disable Pico in the app configuration.\n",
    "\n",
    "We will write the below file to `app_2.py` and run it with `python app_2.py`."
   ]
  },
  {
   "cell_type": "code",
   "execution_count": 1,
   "metadata": {},
   "outputs": [
    {
     "name": "stdout",
     "output_type": "stream",
     "text": [
      "Writing app_2.py\n"
     ]
    }
   ],
   "source": [
    "%%writefile app_2.py\n",
    "\n",
    "from fasthtml.common import *\n",
    "\n",
    "app, rt = fast_app(pico=False)\n",
    "\n",
    "\n",
    "@app.get(\"/\")\n",
    "def hello():\n",
    "    return (Title(\"Hello, World!\"), Main(H1(\"Hello, World!\"), cls=\"container\"),\n",
    "            Div(P(\"Goodbye, World!\"), A(\"About\", href=\"/about\"), cls=\"container\"))\n",
    "\n",
    "@rt(\"/about\")\n",
    "def get():\n",
    "    return(Titled(\"About this Site\",\n",
    "                  P(\"This is an example site built with FastHTML!\"),\n",
    "                  A(\"Return Home\", href=\"/\")))\n",
    "\n",
    "\n",
    "serve()"
   ]
  },
  {
   "cell_type": "markdown",
   "metadata": {},
   "source": [
    "Previously, the site content was more centered on the page, the background was dark, and the text was light in a sans-serif font. Now we see a serif font, white background, black text, without padding on the sides (unless your browser applies any default styling). This shows the extent to which CSS is responsible for the appearance and layout of the site.\n",
    "\n",
    "## Applying a Different Framework\n",
    "\n",
    "Let's apply a different framework. To do so, we leave `pico=False` and point to another stylesheet in the `hdrs` argument to `fast_app`."
   ]
  },
  {
   "cell_type": "code",
   "execution_count": 10,
   "metadata": {},
   "outputs": [
    {
     "name": "stdout",
     "output_type": "stream",
     "text": [
      "Overwriting app_2.py\n"
     ]
    }
   ],
   "source": [
    "%%writefile app_2.py\n",
    "\n",
    "from fasthtml.common import *\n",
    "\n",
    "app, rt = fast_app(\n",
    "    pico=False,\n",
    "    # list not tuple, tuple specified in docs\n",
    "    hdrs = [\n",
    "        Link(rel=\"stylesheet\", href=\"https://unpkg.com/sakura.css/css/sakura.css\", type='text/css')\n",
    "    ]\n",
    ")\n",
    "\n",
    "\n",
    "@app.get(\"/\")\n",
    "def hello():\n",
    "    return (Title(\"Hello, World!\"), Main(H1(\"Hello, World!\"), cls=\"container\"),\n",
    "            Div(P(\"Goodbye, World!\"), A(\"About\", href=\"/about\"), cls=\"container\"))\n",
    "\n",
    "@rt(\"/about\")\n",
    "def get():\n",
    "    return(Titled(\"About this Site\",\n",
    "                  P(\"This is an example site built with FastHTML!\"),\n",
    "                  A(\"Return Home\", href=\"/\")))\n",
    "\n",
    "\n",
    "serve()"
   ]
  },
  {
   "cell_type": "markdown",
   "metadata": {},
   "source": [
    "And now we end up with a different theme, with centered text and a sans-serif font.\n",
    "\n",
    "## Applying a Custom Global Style\n",
    "\n",
    "Next, let's remove Sakura and apply a custom global style to the site. We'll do this with a `Style` tag in the `hdrs` argument to `fast_app`."
   ]
  },
  {
   "cell_type": "code",
   "execution_count": 3,
   "metadata": {},
   "outputs": [
    {
     "name": "stdout",
     "output_type": "stream",
     "text": [
      "Overwriting app_2.py\n"
     ]
    }
   ],
   "source": [
    "%%writefile app_2.py\n",
    "\n",
    "from fasthtml.common import *\n",
    "\n",
    "app, rt = fast_app(\n",
    "    pico=False,\n",
    "    # list not tuple, tuple specified in docs\n",
    "    hdrs = [\n",
    "        Style(\"\"\"\n",
    "            body {\n",
    "                font-family: Arial, sans-serif;\n",
    "                max-width: 800px;\n",
    "                margin: 0 auto;\n",
    "                padding: 0 20px;\n",
    "                background-color: #f0f0f0;\n",
    "            }\n",
    "            a {\n",
    "                color: red;\n",
    "                text-decoration: none;\n",
    "            }\n",
    "            a:hover {\n",
    "                text-decoration: underline;\n",
    "            }\n",
    "        \"\"\")\n",
    "    ]\n",
    ")\n",
    "\n",
    "\n",
    "@app.get(\"/\")\n",
    "def hello():\n",
    "    return (Title(\"Hello, World!\"), Main(H1(\"Hello, World!\"), cls=\"container\"),\n",
    "            Div(P(\"Goodbye, World!\"), A(\"About\", href=\"/about\"), cls=\"container\"))\n",
    "\n",
    "@rt(\"/about\")\n",
    "def get():\n",
    "    return(Titled(\"About this Site\",\n",
    "                  P(\"This is an example site built with FastHTML!\"),\n",
    "                  A(\"Return Home\", href=\"/\")))\n",
    "\n",
    "\n",
    "serve()"
   ]
  },
  {
   "cell_type": "markdown",
   "metadata": {},
   "source": [
    "The `Style` tag is a global style tag that applies to the entire site. In FastHTML, it takes a string of CSS. We applied a number of style options to the site:\n",
    "- `body { font-family: Arial, sans-serif; }` sets the font family for the entire site to Arial, sans-serif.\n",
    "- `max-width: 800px;` sets the maximum width of the site to 800px.\n",
    "- `margin: 0 auto;` centers the site horizontally.\n",
    "- `padding: 0 20px;` adds 20px of padding to the left and right of the site.\n",
    "- `background-color: #f0f0f0;` sets the background color of the site to light gray.\n",
    "- `a { color: red; }` sets the color of all links to red.\n",
    "- `a:hover { text-decoration: underline; }` sets the text decoration of all links to underline when hovered over."
   ]
  },
  {
   "cell_type": "markdown",
   "metadata": {},
   "source": [
    "## Styling Individual Components\n",
    "\n",
    "We can style individual components in much the same way we styled the site globally: components can take a `style` argument. Let's go back to the basic application with picoCSS disabled and apply few component-specific styles."
   ]
  },
  {
   "cell_type": "code",
   "execution_count": 5,
   "metadata": {},
   "outputs": [
    {
     "name": "stdout",
     "output_type": "stream",
     "text": [
      "Overwriting app_2.py\n"
     ]
    }
   ],
   "source": [
    "%%writefile app_2.py\n",
    "\n",
    "from fasthtml.common import *\n",
    "\n",
    "app, rt = fast_app(pico=False)\n",
    "\n",
    "\n",
    "@app.get(\"/\")\n",
    "def hello():\n",
    "    return (\n",
    "        Title(\"Hello, World!\"),\n",
    "        Main(\n",
    "            H1(\"Hello, World!\", style=\"color: blue; font-size: 24px;\"),\n",
    "            cls=\"container\"\n",
    "        ),\n",
    "        Div(\n",
    "            P(\"Goodbye, World!\", style=\"color: green; font-style: italic;\"),\n",
    "            A(\"About\", href=\"/about\", style=\"color: red;\"),\n",
    "            cls=\"container\"\n",
    "        )\n",
    "    )\n",
    "\n",
    "@rt(\"/about\")\n",
    "def get():\n",
    "    return Titled(\n",
    "        \"About this Site\",\n",
    "        P(\"This is an example site built with FastHTML!\", style=\"color: purple; text-decoration: underline;\"),\n",
    "        A(\"Return Home\", href=\"/\", style=\"color: red;\"),\n",
    "        style=\"max-width: 800px; margin: 0 auto; padding: 0 20px; background-color: #f0f0f0;\"\n",
    "    )\n",
    "\n",
    "\n",
    "serve()"
   ]
  },
  {
   "cell_type": "markdown",
   "metadata": {},
   "source": [
    "We applied a handful of different (mismatched, but that's the point) styles to individual components with CSS strings passed to the `style` argument.\n",
    "\n",
    "## Using a Custom CSS Stylesheet\n",
    "Lastly, we can apply a custom CSS stylesheet to the site. To do so, we will:\n",
    "1. Write a CSS file that contains the styles we want to apply.\n",
    "2. Link to the CSS file in the `hdrs` argument to `fast_app`.\n",
    "\n",
    "Let's write a CSS file that implements the global style we applied earlier:\n",
    "\n",
    "```python\n",
    "Style(\"\"\"\n",
    "    body {\n",
    "        font-family: Arial, sans-serif;\n",
    "        max-width: 800px;\n",
    "        margin: 0 auto;\n",
    "        padding: 0 20px;\n",
    "        background-color: #f0f0f0;\n",
    "    }\n",
    "    a {\n",
    "        color: red;\n",
    "        text-decoration: none;\n",
    "    }\n",
    "    a:hover {\n",
    "        text-decoration: underline;\n",
    "    }\n",
    "\"\"\")\n",
    "```\n",
    "\n",
    "The CSS file, which we will call `style.css`, should look like this:\n",
    "\n",
    "```css\n",
    "body {\n",
    "    font-family: Arial, sans-serif;\n",
    "    max-width: 800px;\n",
    "    margin: 0 auto;\n",
    "    padding: 0 20px;\n",
    "    background-color: #f0f0f0;\n",
    "}\n",
    "a {\n",
    "    color: red;\n",
    "    text-decoration: none;\n",
    "}\n",
    "a:hover {\n",
    "    text-decoration: underline;\n",
    "}\n",
    "```"
   ]
  },
  {
   "cell_type": "code",
   "execution_count": 6,
   "metadata": {
    "vscode": {
     "languageId": "html"
    }
   },
   "outputs": [
    {
     "name": "stdout",
     "output_type": "stream",
     "text": [
      "Writing style.css\n"
     ]
    }
   ],
   "source": [
    "%%writefile style.css\n",
    "\n",
    "body {\n",
    "    font-family: Arial, sans-serif;\n",
    "    max-width: 800px;\n",
    "    margin: 0 auto;\n",
    "    padding: 0 20px;\n",
    "    background-color: #f0f0f0;\n",
    "}\n",
    "a {\n",
    "    color: red;\n",
    "    text-decoration: none;\n",
    "}\n",
    "a:hover {\n",
    "    text-decoration: underline;\n",
    "}"
   ]
  },
  {
   "cell_type": "markdown",
   "metadata": {},
   "source": [
    "Now, we can link to the CSS file in the `hdrs` argument to `fast_app`, just like we did with Sakura—except this time we're pointing to our own custom stylesheet."
   ]
  },
  {
   "cell_type": "code",
   "execution_count": 8,
   "metadata": {},
   "outputs": [
    {
     "name": "stdout",
     "output_type": "stream",
     "text": [
      "Overwriting app_2.py\n"
     ]
    }
   ],
   "source": [
    "%%writefile app_2.py\n",
    "\n",
    "from fasthtml.common import *\n",
    "\n",
    "app, rt = fast_app(\n",
    "    pico=False,\n",
    "    hdrs=[\n",
    "        Link(rel=\"stylesheet\", href=\"style.css\", type=\"text/css\")\n",
    "    ]\n",
    ")\n",
    "\n",
    "@app.get(\"/\")\n",
    "def hello():\n",
    "    return (Title(\"Hello, World!\"), Main(H1(\"Hello, World!\"), cls=\"container\"),\n",
    "            Div(P(\"Goodbye, World!\"), A(\"About\", href=\"/about\"), cls=\"container\"))\n",
    "\n",
    "@rt(\"/about\")\n",
    "def get():\n",
    "    return(Titled(\"About this Site\",\n",
    "                  P(\"This is an example site built with FastHTML!\"),\n",
    "                  A(\"Return Home\", href=\"/\")))\n",
    "\n",
    "serve()"
   ]
  },
  {
   "cell_type": "markdown",
   "metadata": {},
   "source": [
    "## Summary\n",
    "Now you know a few different ways to change the appearance of your FastHTML application. You can apply a different CSS framework, apply a custom global style, style individual components, or apply a custom CSS stylesheet.\n",
    "\n",
    "Spend some time playing with the different options and see how they affect the appearance of your site. [This](https://developer.mozilla.org/en-US/docs/Web/CSS/Reference) is a good resource for learning more about CSS and the different properties you can use.\n",
    "\n",
    "I recommend the following exercises to build your familiarity with styling FastHTML applications:\n",
    "1. Search for and apply a different CSS framework to the site.\n",
    "2. Try combinations of different approaches, such as a custom stylesheet with some inidividual component styles.\n",
    "3. Pick a site you like and try to roughly approximate its style.\n",
    "4. Pick a few CSS properties from the MDN CSS Reference and try them out in your own FastHTML application."
   ]
  },
  {
   "cell_type": "markdown",
   "metadata": {},
   "source": []
  }
 ],
 "metadata": {
  "kernelspec": {
   "display_name": ".venv",
   "language": "python",
   "name": "python3"
  },
  "language_info": {
   "codemirror_mode": {
    "name": "ipython",
    "version": 3
   },
   "file_extension": ".py",
   "mimetype": "text/x-python",
   "name": "python",
   "nbconvert_exporter": "python",
   "pygments_lexer": "ipython3",
   "version": "3.12.4"
  }
 },
 "nbformat": 4,
 "nbformat_minor": 2
}
